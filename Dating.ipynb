{
 "cells": [
  {
   "cell_type": "code",
   "execution_count": 1,
   "id": "1fbd0b55",
   "metadata": {},
   "outputs": [
    {
     "name": "stdout",
     "output_type": "stream",
     "text": [
      "Requirement already satisfied: pandas in c:\\users\\sapiraharoni\\anaconda3\\lib\\site-packages (1.5.3)Note: you may need to restart the kernel to use updated packages.\n",
      "\n",
      "Requirement already satisfied: numpy>=1.21.0 in c:\\users\\sapiraharoni\\anaconda3\\lib\\site-packages (from pandas) (1.23.5)\n",
      "Requirement already satisfied: python-dateutil>=2.8.1 in c:\\users\\sapiraharoni\\anaconda3\\lib\\site-packages (from pandas) (2.8.2)\n",
      "Requirement already satisfied: pytz>=2020.1 in c:\\users\\sapiraharoni\\anaconda3\\lib\\site-packages (from pandas) (2022.7)\n",
      "Requirement already satisfied: six>=1.5 in c:\\users\\sapiraharoni\\anaconda3\\lib\\site-packages (from python-dateutil>=2.8.1->pandas) (1.16.0)\n"
     ]
    }
   ],
   "source": [
    "pip install pandas"
   ]
  },
  {
   "cell_type": "code",
   "execution_count": 2,
   "id": "8bf7195c",
   "metadata": {},
   "outputs": [
    {
     "name": "stdout",
     "output_type": "stream",
     "text": [
      "C:\\Users\\SapirAharoni\n"
     ]
    }
   ],
   "source": [
    "import os\n",
    "print(os.getcwd())"
   ]
  },
  {
   "cell_type": "code",
   "execution_count": 3,
   "id": "44bc756a",
   "metadata": {},
   "outputs": [
    {
     "name": "stdout",
     "output_type": "stream",
     "text": [
      "                     userId gender  age  counts_pictures  \\\n",
      "0  55303fc3160ba0eb728b4575      F   25                4   \n",
      "1  552e7b61c66da10d1e8b4c82      M   22                5   \n",
      "2  54c92738076ea1b5338b4735      M   20                3   \n",
      "3  54f2b4ce0b6ea1177e8b4d18      F   24               18   \n",
      "4  54ecbb39170ba08b488b4aa5      M   24               13   \n",
      "\n",
      "   counts_profileVisits  counts_views  Interest_Long-term Partner  \\\n",
      "0                  8279           239                        True   \n",
      "1                   663            13                        True   \n",
      "2                 22187          1015                        True   \n",
      "3                  7339           180                        True   \n",
      "4                 18672           492                       False   \n",
      "\n",
      "   Interest_Short-term Partner  New friends  connectedToFacebook  isVIP  \\\n",
      "0                         True         True                False  False   \n",
      "1                         True         True                False  False   \n",
      "2                         True        False                False  False   \n",
      "3                        False         True                False  False   \n",
      "4                         True        False                False  False   \n",
      "\n",
      "   isVerified              city  mobile  online Common login time  \\\n",
      "0       False        Rothenburg    True   False             16:00   \n",
      "1       False           Sissach    True   False             18:00   \n",
      "2       False           Sissach   False   False              4:00   \n",
      "3       False  Titisee-Neustadt    True    True              8:00   \n",
      "4       False         Stuttgart    True    True             14:00   \n",
      "\n",
      "   lang_english  \n",
      "0           NaN  \n",
      "1           NaN  \n",
      "2           NaN  \n",
      "3           NaN  \n",
      "4           NaN  \n"
     ]
    }
   ],
   "source": [
    "import pandas as pd\n",
    "\n",
    "# Replace 'My_file.csv' with the actual file path\n",
    "df = pd.read_csv('tinder users details.csv')\n",
    "\n",
    "# Display the first few rows of my data\n",
    "print(df.head())"
   ]
  },
  {
   "cell_type": "code",
   "execution_count": 4,
   "id": "b209b35d",
   "metadata": {},
   "outputs": [
    {
     "name": "stdout",
     "output_type": "stream",
     "text": [
      "               age  counts_pictures  counts_profileVisits  counts_views  \\\n",
      "count  2919.000000      2919.000000           2919.000000   2919.000000   \n",
      "mean     22.196643         4.965057           3923.583076    166.207263   \n",
      "std       2.041308         4.589094           7203.342904    393.546556   \n",
      "min      18.000000         0.000000              0.000000      0.000000   \n",
      "25%      20.000000         2.000000            414.500000     13.000000   \n",
      "50%      22.000000         4.000000           1341.000000     48.000000   \n",
      "75%      24.000000         6.000000           4469.000000    156.000000   \n",
      "max      28.000000        30.000000         164425.000000   9288.000000   \n",
      "\n",
      "       lang_english  \n",
      "count           0.0  \n",
      "mean            NaN  \n",
      "std             NaN  \n",
      "min             NaN  \n",
      "25%             NaN  \n",
      "50%             NaN  \n",
      "75%             NaN  \n",
      "max             NaN  \n"
     ]
    }
   ],
   "source": [
    "print(df.describe())"
   ]
  },
  {
   "cell_type": "code",
   "execution_count": 5,
   "id": "58022d6d",
   "metadata": {},
   "outputs": [],
   "source": [
    "df = df.drop(['lang_english'], axis=1)"
   ]
  },
  {
   "cell_type": "code",
   "execution_count": 6,
   "id": "ffe8b079",
   "metadata": {},
   "outputs": [
    {
     "name": "stdout",
     "output_type": "stream",
     "text": [
      "                     userId gender  age  counts_pictures  \\\n",
      "0  55303fc3160ba0eb728b4575      F   25                4   \n",
      "1  552e7b61c66da10d1e8b4c82      M   22                5   \n",
      "2  54c92738076ea1b5338b4735      M   20                3   \n",
      "3  54f2b4ce0b6ea1177e8b4d18      F   24               18   \n",
      "4  54ecbb39170ba08b488b4aa5      M   24               13   \n",
      "\n",
      "   counts_profileVisits  counts_views  Interest_Long-term Partner  \\\n",
      "0                  8279           239                        True   \n",
      "1                   663            13                        True   \n",
      "2                 22187          1015                        True   \n",
      "3                  7339           180                        True   \n",
      "4                 18672           492                       False   \n",
      "\n",
      "   Interest_Short-term Partner  New friends  connectedToFacebook  isVIP  \\\n",
      "0                         True         True                False  False   \n",
      "1                         True         True                False  False   \n",
      "2                         True        False                False  False   \n",
      "3                        False         True                False  False   \n",
      "4                         True        False                False  False   \n",
      "\n",
      "   isVerified              city  mobile  online Common login time  \n",
      "0       False        Rothenburg    True   False             16:00  \n",
      "1       False           Sissach    True   False             18:00  \n",
      "2       False           Sissach   False   False              4:00  \n",
      "3       False  Titisee-Neustadt    True    True              8:00  \n",
      "4       False         Stuttgart    True    True             14:00  \n"
     ]
    }
   ],
   "source": [
    "df = df.rename(columns={\n",
    "    'flirtInterests_chat': 'Interest_Long-term Partner',\n",
    "    'flirtInterests_friends': 'Interest_Short-term Partner',\n",
    "    'flirtInterests_date': 'New friends'\n",
    "})\n",
    "\n",
    "# שמירת הקובץ עם השמות החדשים\n",
    "df.to_csv('your_file_with_new_column_names.csv', index=False)\n",
    "\n",
    "print(df.head())"
   ]
  },
  {
   "cell_type": "code",
   "execution_count": 7,
   "id": "a348db3d",
   "metadata": {},
   "outputs": [],
   "source": [
    "import random "
   ]
  },
  {
   "cell_type": "code",
   "execution_count": 8,
   "id": "93e89ce2",
   "metadata": {},
   "outputs": [
    {
     "name": "stdout",
     "output_type": "stream",
     "text": [
      "                     userId gender  age  counts_pictures  \\\n",
      "0  55303fc3160ba0eb728b4575      F   25                4   \n",
      "1  552e7b61c66da10d1e8b4c82      F   22                5   \n",
      "2  54c92738076ea1b5338b4735      M   20                3   \n",
      "3  54f2b4ce0b6ea1177e8b4d18      F   24               18   \n",
      "4  54ecbb39170ba08b488b4aa5      M   24               13   \n",
      "\n",
      "   counts_profileVisits  counts_views  Interest_Long-term Partner  \\\n",
      "0                  8279           239                        True   \n",
      "1                   663            13                        True   \n",
      "2                 22187          1015                        True   \n",
      "3                  7339           180                        True   \n",
      "4                 18672           492                       False   \n",
      "\n",
      "   Interest_Short-term Partner  New friends  connectedToFacebook  isVIP  \\\n",
      "0                         True         True                False  False   \n",
      "1                         True         True                False  False   \n",
      "2                         True        False                False  False   \n",
      "3                        False         True                False  False   \n",
      "4                         True        False                False  False   \n",
      "\n",
      "   isVerified              city  mobile  online Common login time  \n",
      "0       False        Rothenburg    True   False             16:00  \n",
      "1       False           Sissach    True   False             18:00  \n",
      "2       False           Sissach   False   False              4:00  \n",
      "3       False  Titisee-Neustadt    True    True              8:00  \n",
      "4       False         Stuttgart    True    True             14:00  \n"
     ]
    }
   ],
   "source": [
    "# קביעת אחוז השורות שיקבלו את הערך 'M' (זכר)\n",
    "percentage_male = 0.5\n",
    "\n",
    "# חישוב מספר השורות שיקבלו 'M'\n",
    "num_rows = len(df)\n",
    "num_males = int(num_rows * percentage_male)\n",
    "\n",
    "# יצירת רשימה של ערכים חדשים\n",
    "genders = ['F'] * num_rows\n",
    "for i in range(num_males):\n",
    "    index = random.randint(0, num_rows - 1)\n",
    "    genders[index] = 'M'\n",
    "\n",
    "# עדכון עמודת gender\n",
    "df['gender'] = genders\n",
    "\n",
    "# שמירת הקובץ החדש עם הערכים המעודכנים\n",
    "df.to_csv('tinder users details.csv', index=False)\n",
    "\n",
    "# הצגת ה-DataFrame לאחר השינוי\n",
    "print(df.head())"
   ]
  },
  {
   "cell_type": "code",
   "execution_count": 9,
   "id": "6276b0d0",
   "metadata": {},
   "outputs": [
    {
     "name": "stdout",
     "output_type": "stream",
     "text": [
      "                     userId gender  age  counts_pictures  \\\n",
      "0  55303fc3160ba0eb728b4575      F   25                4   \n",
      "1  552e7b61c66da10d1e8b4c82      F   22                5   \n",
      "2  54c92738076ea1b5338b4735      M   20                3   \n",
      "3  54f2b4ce0b6ea1177e8b4d18      F   24               18   \n",
      "4  54ecbb39170ba08b488b4aa5      M   24               13   \n",
      "\n",
      "   counts_profileVisits  counts_views  Interest_Long-term Partner  \\\n",
      "0                  8279           239                        True   \n",
      "1                   663            13                        True   \n",
      "2                 22187          1015                        True   \n",
      "3                  7339           180                        True   \n",
      "4                 18672           492                       False   \n",
      "\n",
      "   Interest_Short-term Partner  New friends  connectedToFacebook  isVIP  \\\n",
      "0                         True         True                False  False   \n",
      "1                         True         True                False  False   \n",
      "2                         True        False                False  False   \n",
      "3                        False         True                False  False   \n",
      "4                         True        False                False  False   \n",
      "\n",
      "   isVerified              city  mobile  online Common login time  \n",
      "0       False        Rothenburg    True   False             19:00  \n",
      "1       False           Sissach    True   False              4:00  \n",
      "2       False           Sissach   False   False             18:00  \n",
      "3       False  Titisee-Neustadt    True    True             16:00  \n",
      "4       False         Stuttgart    True    True              2:00  \n"
     ]
    }
   ],
   "source": [
    "# יצירת רשימת שעות אפשריות (ללא דקות)\n",
    "possible_hours = [f\"{hour:00}:00\" for hour in range(24)]\n",
    "\n",
    "# יצירת עמודה חדשה עם שעות התחברות אקראיות\n",
    "hours = [random.choice(possible_hours) for _ in range(len(df))]\n",
    "\n",
    "# הוספת העמודה החדשה ל-DataFrame\n",
    "df['Common login time'] = hours\n",
    "\n",
    "# שמירת הקובץ החדש עם העמודה החדשה\n",
    "df.to_csv('your_file_with_login_hours.csv', index=False)\n",
    "\n",
    "print(df.head())"
   ]
  },
  {
   "cell_type": "code",
   "execution_count": 10,
   "id": "4cf03b3c",
   "metadata": {},
   "outputs": [
    {
     "name": "stdout",
     "output_type": "stream",
     "text": [
      "The most popular time is: 19:00\n"
     ]
    }
   ],
   "source": [
    "# מציאת השעה הכי פופולרית (הכי הרבה מופעים)\n",
    "most_common_hour = df['Common login time'].mode()[0]\n",
    "\n",
    "print(f\"The most popular time is: {most_common_hour}\")"
   ]
  },
  {
   "cell_type": "code",
   "execution_count": 11,
   "id": "33cae9c3",
   "metadata": {},
   "outputs": [
    {
     "name": "stderr",
     "output_type": "stream",
     "text": [
      "C:\\Users\\SapirAharoni\\AppData\\Local\\Temp\\ipykernel_33132\\720127175.py:2: FutureWarning: The default value of numeric_only in DataFrameGroupBy.mean is deprecated. In a future version, numeric_only will default to False. Either specify numeric_only or select only columns which should be valid for the function.\n",
      "  gender_groups = df.groupby('gender').mean()\n",
      "C:\\Users\\SapirAharoni\\AppData\\Local\\Temp\\ipykernel_33132\\720127175.py:5: FutureWarning: The default value of numeric_only in DataFrameGroupBy.mean is deprecated. In a future version, numeric_only will default to False. Either specify numeric_only or select only columns which should be valid for the function.\n",
      "  age_groups = df.groupby('age').mean()\n"
     ]
    }
   ],
   "source": [
    "# פילוח לפי מגדר\n",
    "gender_groups = df.groupby('gender').mean()\n",
    "\n",
    "# פילוח לפי גיל\n",
    "age_groups = df.groupby('age').mean()"
   ]
  },
  {
   "cell_type": "code",
   "execution_count": 12,
   "id": "0aef79c8",
   "metadata": {},
   "outputs": [
    {
     "name": "stdout",
     "output_type": "stream",
     "text": [
      "                      counts_pictures  counts_profileVisits\n",
      "counts_pictures              1.000000              0.418071\n",
      "counts_profileVisits         0.418071              1.000000\n"
     ]
    }
   ],
   "source": [
    "correlation = df[['counts_pictures', 'counts_profileVisits']].corr()\n",
    "print(correlation)"
   ]
  },
  {
   "cell_type": "code",
   "execution_count": 13,
   "id": "55acbc98",
   "metadata": {},
   "outputs": [],
   "source": [
    "long_term_users = df[df['Interest_Long-term Partner'] == True]\n",
    "new_friends_users = df[df['New friends'] == True]"
   ]
  },
  {
   "cell_type": "code",
   "execution_count": 14,
   "id": "b05e2d74",
   "metadata": {},
   "outputs": [],
   "source": [
    "import pandas as pd\n",
    "import numpy as np\n",
    "\n",
    "# יצירת רשימת מדינות\n",
    "countries = ['USA', 'Canada', 'Brazil', 'Germany', 'Japan', 'India', 'Australia', 'France', 'Mexico', 'Russia']\n",
    "\n",
    "# הגדרת משקלים כך שארה\"ב תקבל 50% והיתר יחולקו באופן שווה (50% בין 9 המדינות)\n",
    "usa_weight = 0.5\n",
    "other_weight = (1 - usa_weight) / (len(countries) - 1)\n",
    "\n",
    "weights = [usa_weight] + [other_weight] * (len(countries) - 1)\n",
    "\n",
    "# יצירת נתונים אקראיים עבור העמודה 'country' בהתפלגות משוקללת\n",
    "df['country'] = np.random.choice(countries, size=len(df), p=weights)\n",
    "\n",
    "# שמירת הקובץ עם העמודה החדשה\n",
    "df.to_excel('your_new_file.xlsx', index=False)\n",
    "\n"
   ]
  },
  {
   "cell_type": "code",
   "execution_count": 15,
   "id": "455e3a55",
   "metadata": {},
   "outputs": [
    {
     "data": {
      "image/png": "[encoded data removed]",
      "text/plain": [
       "<Figure size 640x480 with 1 Axes>"
      ]
     },
     "metadata": {},
     "output_type": "display_data"
    }
   ],
   "source": [
    "import matplotlib.pyplot as plt\n",
    "\n",
    "# חישוב אחוזי משתמשי VIP לפי מדינה\n",
    "vip_by_country = df.groupby('country')['isVIP'].mean()\n",
    "\n",
    "# בחירת 5 המדינות עם אחוזי ה-VIP הכי גבוהים\n",
    "top_5_countries_by_vip = vip_by_country.nlargest(5).index\n",
    "\n",
    "# יצירת גרף עבור 5 המדינות עם אחוזי ה-VIP הגבוהים ביותר\n",
    "vip_by_top_5_countries = vip_by_country.loc[top_5_countries_by_vip]\n",
    "vip_by_top_5_countries.plot(kind='bar')\n",
    "\n",
    "plt.title('Top 5 Countries by VIP Percentage')\n",
    "plt.xticks(rotation=45)\n",
    "plt.show()\n",
    "\n"
   ]
  },
  {
   "cell_type": "code",
   "execution_count": 16,
   "id": "70f2301c",
   "metadata": {},
   "outputs": [
    {
     "name": "stdout",
     "output_type": "stream",
     "text": [
      "Index(['userId', 'gender', 'age', 'counts_pictures', 'counts_profileVisits',\n",
      "       'counts_views', 'Interest_Long-term Partner',\n",
      "       'Interest_Short-term Partner', 'New friends', 'connectedToFacebook',\n",
      "       'isVIP', 'isVerified', 'city', 'mobile', 'online', 'Common login time',\n",
      "       'country'],\n",
      "      dtype='object')\n"
     ]
    }
   ],
   "source": [
    "print(df.columns)\n"
   ]
  },
  {
   "cell_type": "code",
   "execution_count": 17,
   "id": "2901601b",
   "metadata": {},
   "outputs": [],
   "source": [
    "df.columns = df.columns.str.strip()"
   ]
  },
  {
   "cell_type": "code",
   "execution_count": 18,
   "id": "4ce7f1fa",
   "metadata": {},
   "outputs": [
    {
     "data": {
      "image/png": "[encoded data removed]",
      "text/plain": [
       "<Figure size 1000x600 with 2 Axes>"
      ]
     },
     "metadata": {},
     "output_type": "display_data"
    }
   ],
   "source": [
    "import pandas as pd\n",
    "import matplotlib.pyplot as plt\n",
    "import seaborn as sns\n",
    "\n",
    "# דוגמא לנתוני הגילאים ושעות ההתחברות\n",
    "data = {\n",
    "    'age': [22, 25, 25, 30, 30, 30, 35, 40, 40, 40, 40, 45, 50, 50],\n",
    "    'Common login time': [8, 9, 9, 10, 10, 11, 12, 12, 13, 14, 14, 15, 16, 16]\n",
    "}\n",
    "\n",
    "# יצירת DataFrame\n",
    "df = pd.DataFrame(data)\n",
    "\n",
    "# יצירת טבלת ציר כדי לחשב את שכיחות הגילאים ושעות ההתחברות\n",
    "pivot_table = df.pivot_table(index='age', columns='Common login time', aggfunc='size', fill_value=0)\n",
    "\n",
    "# הגדרת גודל הגרף\n",
    "plt.figure(figsize=(10, 6))\n",
    "\n",
    "# יצירת גרף heatmap להצגת שכיחות גילאים ושעות התחברות\n",
    "sns.heatmap(pivot_table, annot=True, cmap='coolwarm', fmt='d')\n",
    "\n",
    "# כותרות לגרף\n",
    "plt.title('User Age and Common Login Time')\n",
    "plt.xlabel('Common Login Time (Hour)')\n",
    "plt.ylabel('Age')\n",
    "\n",
    "# הצגת הגרף\n",
    "plt.show()\n"
   ]
  },
  {
   "cell_type": "code",
   "execution_count": 19,
   "id": "695d6028",
   "metadata": {},
   "outputs": [
    {
     "data": {
      "image/png": "[encoded data removed]",
      "text/plain": [
       "<Figure size 800x600 with 1 Axes>"
      ]
     },
     "metadata": {},
     "output_type": "display_data"
    }
   ],
   "source": [
    "import pandas as pd\n",
    "import matplotlib.pyplot as plt\n",
    "import seaborn as sns\n",
    "\n",
    "# דוגמא לנתונים לגבי פרופיל והודעות\n",
    "data = {\n",
    "    'Profile Status': ['Complete', 'Incomplete'],\n",
    "    'Average Messages Received': [170, 100]  # הבדל של 70%\n",
    "}\n",
    "\n",
    "# יצירת DataFrame\n",
    "df = pd.DataFrame(data)\n",
    "\n",
    "# הגדרת גודל הגרף\n",
    "plt.figure(figsize=(8, 6))\n",
    "\n",
    "# יצירת גרף barplot להצגת ההבדל בהודעות\n",
    "sns.barplot(x='Profile Status', y='Average Messages Received', data=df, palette='viridis')\n",
    "\n",
    "# כותרות לגרף\n",
    "plt.title('Profile Completeness and Engagement')\n",
    "plt.xlabel('Profile Status')\n",
    "plt.ylabel('Average Messages Received')\n",
    "\n",
    "# הצגת הגרף\n",
    "plt.show()\n"
   ]
  },
  {
   "cell_type": "code",
   "execution_count": null,
   "id": "f246ad94",
   "metadata": {},
   "outputs": [],
   "source": []
  }
 ],
 "metadata": {
  "kernelspec": {
   "display_name": "Python 3 (ipykernel)",
   "language": "python",
   "name": "python3"
  },
  "language_info": {
   "codemirror_mode": {
    "name": "ipython",
    "version": 3
   },
   "file_extension": ".py",
   "mimetype": "text/x-python",
   "name": "python",
   "nbconvert_exporter": "python",
   "pygments_lexer": "ipython3",
   "version": "3.10.9"
  }
 },
 "nbformat": 4,
 "nbformat_minor": 5
}
